{
 "cells": [
  {
   "cell_type": "markdown",
   "metadata": {},
   "source": [
    "An introduction to python"
   ]
  },
  {
   "cell_type": "markdown",
   "metadata": {},
   "source": [
    "\n",
    "\n",
    "The first few steps"
   ]
  },
  {
   "cell_type": "code",
   "execution_count": null,
   "metadata": {
    "slideshow": {
     "slide_type": "slide"
    }
   },
   "outputs": [],
   "source": [
    "#Intro\n",
    "\n",
    "a = 3 + 2\n",
    "print(a)"
   ]
  },
  {
   "cell_type": "code",
   "execution_count": null,
   "metadata": {},
   "outputs": [],
   "source": [
    "#Intro\n",
    "\n",
    "b = 7 + 2\n",
    "print('b')\n",
    "#print(b)"
   ]
  },
  {
   "cell_type": "markdown",
   "metadata": {},
   "source": [
    "Datatypes in python:\n",
    "\n",
    "A few common datatypes are\n",
    "1. Integer / Int\n",
    "2. Floating point number / Float\n",
    "3. String\n",
    "4. List\n",
    "5. Set\n",
    "6. Tuple\n",
    "7. Dictionary\n"
   ]
  },
  {
   "cell_type": "markdown",
   "metadata": {},
   "source": [
    "Operators: \"Operators\" in python are special symbols that carry out arithmetic or logical operations.\n",
    "\n",
    "eg: '+' , '-' , '*' , '/' , '**' , '//', '%'\n",
    "\n",
    "Operand: The value that the operator operates on is called the \"Operand\".\n"
   ]
  },
  {
   "cell_type": "code",
   "execution_count": null,
   "metadata": {},
   "outputs": [],
   "source": [
    "#Operations on Numbers\n",
    "\n",
    "A = 32 - 12          #Subtraction\n",
    "B = 2 * 12           #Multiplication\n",
    "C = 2 ** 3           #Exponentiation\n",
    "\n",
    "print(A,B,C)\n",
    "\n",
    "#A few more operations\n",
    "print('--------------------------')\n",
    "\n",
    "D = 5 * -2\n",
    "E = 6/3/2            #Division\n",
    "F = 7 + 4 * 3\n",
    "\n",
    "print(D); print(E); print(F)\n",
    "\n",
    "H = 123/0\n"
   ]
  },
  {
   "cell_type": "markdown",
   "metadata": {},
   "source": [
    "The output corresponding to D,E and F are a little unexpected.\n",
    "\n"
   ]
  },
  {
   "cell_type": "markdown",
   "metadata": {},
   "source": [
    "Precedence of Arithmetic operators: In decreasing order\n",
    "1. Parantheses ()\n",
    "2. Exponentiation **\n",
    "3. Negation -\n",
    "4. Division /  ,Integer Division //  , Multiplication *  ,Modulus %\n",
    "5. Addition +  ,Subtraction -\n",
    "\n",
    "    "
   ]
  },
  {
   "cell_type": "code",
   "execution_count": null,
   "metadata": {},
   "outputs": [],
   "source": [
    "#Other Arithmetic Operations\n",
    "\n",
    "X = 7//2\n",
    "Y = 7%2\n",
    "print(X,Y)\n",
    "\n",
    "#Combining arithmetic operations\n",
    "\n",
    "Z = ((2+3)**2)-25\n",
    "print(Z)\n",
    "\n"
   ]
  },
  {
   "cell_type": "markdown",
   "metadata": {},
   "source": [
    "Relational Operators:\n",
    "Relational operators compare two expressions and return a 'True' or 'False' vaue.\n",
    "\n"
   ]
  },
  {
   "cell_type": "code",
   "execution_count": null,
   "metadata": {},
   "outputs": [],
   "source": [
    "#Relational Operations\n",
    "\n",
    "A = 2 == 3               #Equal To\n",
    "B = 2 <  3               #Strictly Less Than\n",
    "C = 7 >  7               #Strictly Greater than\n",
    "D = 8 >= 8               #Greater than or Equal to\n",
    "E = 7 <= 6               #Less than or Equal to\n",
    "F = 12 != 33             #Not equal to\n",
    "\n",
    "print(A); print(B); print(C); print(D); print(E);\n",
    "\n",
    "print(\"-----------------------------\")\n",
    "\n",
    "#Exercise: Check the following\n",
    "\n",
    "X = 7//2 == 7%2\n",
    "Y = 7%3  <  7%2\n",
    "Z = 2**3 >= 3**2\n",
    "\n"
   ]
  },
  {
   "cell_type": "markdown",
   "metadata": {},
   "source": [
    "Logical Operations:\n",
    "Logical operations are the operations applied to logical operands, i.e to 'True' and 'False' values (Also known as Boolean values).\n",
    "\n"
   ]
  },
  {
   "cell_type": "code",
   "execution_count": null,
   "metadata": {},
   "outputs": [],
   "source": [
    "#Operations on boolean values\n",
    "\n",
    "A = True and False \n",
    "\n",
    "#Make sure the words True and False start with a capital letter.\n",
    "\n",
    "B = (5<3) and ((5/0)<9)\n",
    "C = (7>12) and (33<66)\n",
    "\n",
    "print(A); print(B); print(C);\n",
    "\n",
    "print(\"-----------------------------\")\n",
    "\n",
    "D = (5>=6) or (5!=4) \n",
    "E = not True\n",
    "F = not False\n",
    "G = not C or B\n",
    "H = not C and not B\n",
    "\n",
    "print('D:',D); print('E:',E); print('F:',F); print('G:',G)\n",
    "print('H:',H)\n",
    "\n"
   ]
  },
  {
   "cell_type": "markdown",
   "metadata": {},
   "source": [
    "Precedence of Logical Operators: In decreasing order\n",
    "1. not\n",
    "2. and\n",
    "3. or\n",
    "\n"
   ]
  },
  {
   "cell_type": "markdown",
   "metadata": {},
   "source": [
    "IMPORTANT: In a given script, if two expressions are assigned to the same variable, Python erases the previous expression and stores only the latest expression."
   ]
  },
  {
   "cell_type": "code",
   "execution_count": null,
   "metadata": {},
   "outputs": [],
   "source": [
    "#Reassignment: An example\n",
    "A = 'first'\n",
    "A= 'second'\n",
    "print(A)\n"
   ]
  },
  {
   "cell_type": "markdown",
   "metadata": {},
   "source": [
    "Precedence of Operators in Python: In decreasing order\n",
    "1. Arithmetic operators\n",
    "2. Relational operators\n",
    "3. Logical operators\n",
    "\n"
   ]
  },
  {
   "cell_type": "markdown",
   "metadata": {},
   "source": [
    "\n",
    "\n",
    "Functions, Strings and Lists\n",
    "\n"
   ]
  },
  {
   "cell_type": "markdown",
   "metadata": {},
   "source": [
    "Functions: \"Functions\" in python are a way of combining simple statements to do useful tasks. \n",
    "We have already seen the example of the 'print()' function. This function tells the python interpreter to display the specified variable or expression or string on the computer screen.\n",
    "Arguments: The variables or objects appearing inside the parantheses just after the name of the function are called functions, in ananlogy with mathematical functions.\n",
    "Functions can also be defined by the user and these functions can also include other functions.\n",
    "\n",
    "\n"
   ]
  },
  {
   "cell_type": "markdown",
   "metadata": {},
   "source": [
    "A few functions are built into python, some of them are given below\n",
    "\n",
    "1... Print Function: Displays the output corresponding to the argument, i.e \"print(argument)\""
   ]
  },
  {
   "cell_type": "code",
   "execution_count": null,
   "metadata": {},
   "outputs": [],
   "source": [
    "A = 9 + 11\n",
    "print(A)                                  \n",
    "print(\"hello\"); print('hello everyone')    #printing strings\n",
    "print(2>3)                                 #printing boolean values\n",
    "print(\"this is a number:\",345)             #passing multiple arguments\n",
    "\n"
   ]
  },
  {
   "cell_type": "markdown",
   "metadata": {},
   "source": [
    "2... Input Function: This function enables python to accept a string from the user. Once the user inputs the string, it is assigned to a specific variable."
   ]
  },
  {
   "cell_type": "code",
   "execution_count": null,
   "metadata": {},
   "outputs": [],
   "source": [
    "AGE = input('Enter your age: ')\n",
    "print(\"Your age is:\", AGE)\n",
    "\n"
   ]
  },
  {
   "cell_type": "markdown",
   "metadata": {},
   "source": [
    "3... Type Function: This function displays the datatype or class of the object passed as the argument."
   ]
  },
  {
   "cell_type": "code",
   "execution_count": null,
   "metadata": {},
   "outputs": [],
   "source": [
    "type(33.5)        #Works in interactive mode\n",
    "type(5)\n",
    "\n",
    "E = 13/13\n",
    "print(type(E))\n",
    "type(E)\n",
    "\n",
    "print(type(12),type(True))\n",
    "\n"
   ]
  },
  {
   "cell_type": "markdown",
   "metadata": {},
   "source": [
    "4... Type Conversion: When a given datatype is \"compatible\" with another datatype, then they can be interconverted. For example strings containing only integers can be converted to integers."
   ]
  },
  {
   "cell_type": "code",
   "execution_count": null,
   "metadata": {},
   "outputs": [],
   "source": [
    "A = '13.5'\n",
    "B = \"55\"\n",
    "\n",
    "print(type(A))\n",
    "fl_A = float(A)    #Converts string A to a floating point number\n",
    "in_B = int(B)      #Converts string B to an integer\n",
    "\n",
    "print(\"-----------------------------\")\n",
    "\n",
    "print(fl_A); print(type(fl_A))\n",
    "print(in_B); print(type(in_B))"
   ]
  },
  {
   "cell_type": "markdown",
   "metadata": {},
   "source": [
    "   Type conversion is particularly useful when the input accepted from a user is required to be a number. The 'input' function only accepts strings. This is illustrated in the following example."
   ]
  },
  {
   "cell_type": "code",
   "execution_count": null,
   "metadata": {},
   "outputs": [],
   "source": [
    "#A program to find the total number of marbles!\n",
    "\n",
    "A_marbles = input('Number of marbles with A: ')\n",
    "B_marbles = input('Number of marbles with B: ')\n",
    "Total_marbles = A_marbles + B_marbles\n",
    "print(\"The total number of marbles is:\", Total_marbles)\n",
    "\n",
    "print(\"-----------------------------\")\n",
    "\n",
    "Total_marbles = int(A_marbles) + int(B_marbles)\n",
    "print(\"The total number of marbles is:\", Total_marbles)\n",
    "\n"
   ]
  },
  {
   "cell_type": "markdown",
   "metadata": {},
   "source": [
    "5... Round: The round function rounds off a decimal number upto the specified number of decimal places. It takes two arguments, the first argument is the number to be rounded off and the second argument is the number of decimal places to be retained. If the second argument is empty, the number is rounded off to the nearest integer.\n",
    "\n",
    "6... Min and Max: This function returns the minimum (maximum) of the given set of arguments"
   ]
  },
  {
   "cell_type": "code",
   "execution_count": null,
   "metadata": {},
   "outputs": [],
   "source": [
    "#Rounding off a number\n",
    "\n",
    "A = 192.7861\n",
    "round(A,2)\n",
    "round(A)\n",
    "round(A,0)\n",
    "\n",
    "print(round(A,2)); print(round(A)); print(round(A,0));\n",
    "\n",
    "print(\"-----------------------------\")\n",
    "\n",
    "#Minimum and Maximum\n",
    "\n",
    "minimum = min(23, 12, 4/4, 123/2)\n",
    "print(minimum)\n",
    "\n",
    "maximum = max(33, 123/44, 234+56, 1024/3.3)\n",
    "print(maximum)"
   ]
  },
  {
   "cell_type": "markdown",
   "metadata": {},
   "source": [
    "\n",
    "\n",
    "Strings: A string is a sequence of characters which is immutable.\n",
    "\n",
    "Python includes a host of functions for working with strings. One can\n",
    "1. join two strings \n",
    "2. capitalize them \n",
    "3. index each character in a string \n",
    "4. slice a string and store it in a new variable                      \n",
    "5. find how many times a character appears in a string \n",
    "6. find out wether a character or a sequence of characters is present in a string\n",
    "7. find the index/ position at which the character appears first\n"
   ]
  },
  {
   "cell_type": "code",
   "execution_count": null,
   "metadata": {},
   "outputs": [],
   "source": [
    "#Concatenating strings\n",
    "A = 'this is '\n",
    "B = 'Yuvaraja\\'s college, Mysore'\n",
    "print(A); print(B)\n",
    "print( A + B)\n",
    "    \n",
    "print(\"-----------------------------\")\n",
    "    \n",
    "#Capitalizing a string\n",
    "new_A = A.capitalize()   #Capitalizes only the first letter\n",
    "print(new_A)\n",
    "\n",
    "print(\"-----------------------------\")\n",
    "\n",
    "#Some other functions:\n",
    "\n",
    "A_1 = A.title()  #Capitalizes each word in the string\n",
    "A_2 = A.upper()  #Capitalizes all letters in the string\n",
    "\n",
    "\n",
    "print(A_1); print(A_2); "
   ]
  },
  {
   "cell_type": "markdown",
   "metadata": {},
   "source": [
    "Indexing Strings: \n",
    "In python the position of a character in a string is called it's index.\n",
    "Characters are indexed from left to right starting with the number 0 and ending at 'n-1'. Here 'n' is the total number of characters in the string.\n",
    "Characters are indexed from right to left (in reverse) starting from the number -1 and decreasing to -n.\n",
    "\n",
    " +---+---+---+---+---+---+\n",
    " | P | y | t | h | o | n |\n",
    " +---+---+---+---+---+---+\n",
    "   0   1   2   3   4   5 \n",
    "  -6  -5  -4  -3  -2  -1\n"
   ]
  },
  {
   "cell_type": "code",
   "execution_count": null,
   "metadata": {},
   "outputs": [],
   "source": [
    "#Indexing Strings\n",
    "\n",
    "text = 'abcde'\n",
    "text[0] ; print(text[0])    #indexes the first character\n",
    "text[4] ; print(text[4])    #indexes the last character\n",
    "\n",
    "print(\"-----------------------------\")\n",
    "\n",
    "text[-1] ; print(text[-1])  #indexes the last character\n",
    "text[-5] ; print(text[-5])  #indexes the first character\n",
    "\n",
    "#Exercise\n",
    "new_text = \"hello M y s u r u\"\n",
    "new_text[6]\n",
    "new_text[7]\n",
    "new_text[-2]\n",
    "\n"
   ]
  },
  {
   "cell_type": "markdown",
   "metadata": {},
   "source": [
    "Slicing String: A part of a string can be copied and stored in a new variable. This is achieved by 'slicing' the string from the first required character to the last required character using thier indexes."
   ]
  },
  {
   "cell_type": "code",
   "execution_count": null,
   "metadata": {
    "scrolled": true
   },
   "outputs": [],
   "source": [
    "#Slicing Strings\n",
    "\n",
    "text = \" The weather is chilly outside \"\n",
    "#How to slice and store the word 'weather' in a new variable?\n",
    "\n",
    "new_text = text[5:12]\n",
    "print(new_text)\n",
    "print(\"-----------------------------\")\n",
    "\n",
    "A_text = text[13:] \n",
    "print(A_text)\n",
    "print(\"-----------------------------\")\n",
    "\n",
    "C_text = text[-1:]\n",
    "print(C_text)\n",
    "print(\"-----------------------------\")\n",
    "\n",
    "D_text = text[:]\n",
    "print(D_text)\n",
    "print(\"-----------------------------\")\n",
    "\n",
    "E_text = text[:-1]\n",
    "print(E_text)\n",
    "print(\"-----------------------------\")\n",
    "\n",
    "#Exercise: Slice the string to choose the word 'outside'\n",
    "ans_text = text[x:y]\n",
    "print(ans_text)\n"
   ]
  },
  {
   "cell_type": "code",
   "execution_count": null,
   "metadata": {},
   "outputs": [],
   "source": [
    "#Count number of times a character appears in a string\n",
    "text = \"sinbad the Sailor sailed the rough seaS\"\n",
    "A = text.count('s') ; print(A)\n",
    "B = text.count('S') ; print(B)\n",
    "\n",
    "#We now know that the function is case specific\n",
    "\n",
    "#Exercise: Define a function to find the number of vowels appearing\n",
    "# in a string\n",
    "\n",
    "print()\n",
    "\n",
    "#Find the index of a character in a string\n",
    "text = \"sinbad the Sailor sailed the rough seaS\"\n",
    "text.find('S'); print(text.find('S'))\n",
    "text.find('t'); print(text.find('t'))\n",
    "\n"
   ]
  },
  {
   "cell_type": "markdown",
   "metadata": {},
   "source": [
    "____________________________________________________________________"
   ]
  },
  {
   "cell_type": "markdown",
   "metadata": {},
   "source": [
    "Lists: Lists in Python are an ordered sequence of values. Each value is seperated by a comma. The values can be numbers, expressions, strings or even lists. \n",
    "The elements of a list are enclosed between square brackets.\n",
    "A list inside a list is called a sublist.\n",
    "Lists are mutable objects. The value of an entry in the list can be easily changed.\n",
    "\n",
    "Working with Lists:"
   ]
  },
  {
   "cell_type": "code",
   "execution_count": null,
   "metadata": {},
   "outputs": [],
   "source": [
    "#A list can contain strings, numbers, lists, etc\n",
    "\n",
    "List_A = [1, 2, abcd, 2+3, ghjk, 3**5, [1,2,3], [qwerty]]\n",
    "print(List_A)\n",
    "\n"
   ]
  },
  {
   "cell_type": "markdown",
   "metadata": {},
   "source": [
    "Indexing and Slicing Lists: Lists are indexed in a manner similar to strings. Each index number refers to a single entry in a list. As usual the forward index starts with 0 and the reverse index starts with -1. \n",
    "1. Entries inside a sublist can also be indexed. If a certain index refers to a sublist, say [x], then the y-th element of the sublist is recognised by \" list[x][y] \"\n",
    "2. Lists can also be sliced in the usual manner and assigned to a new variable"
   ]
  },
  {
   "cell_type": "code",
   "execution_count": null,
   "metadata": {},
   "outputs": [],
   "source": [
    "#indexing Lists\n",
    "Var_1 = 345\n",
    "sl_1 = ['a','b','c']\n",
    "List_A = [1, sl_1, 'abcd', 2+3, Var_1, 3**5, [1,2,3], ['qwerty']]\n",
    "\n",
    "print(List_A)\n",
    "\n",
    "print(\"-----------------------------\")\n",
    "\n",
    "List_A[0] ; print(List_A[0]) \n",
    "List_A[3] ; print(List_A[3])\n",
    "List_A[-2] ; print(List_A[-2])\n",
    "\n",
    "print(\"-----------------------------\")\n",
    "\n",
    "#Indexing sublists\n",
    "List_A[-2][1] ; print(List_A[-2][1]) \n",
    "List_A[1][2] ; print(List_A[1][2])     #Third entry of the list sl_1\n",
    "\n",
    "print(\"-----------------------------\")\n",
    "\n",
    "#Slicing Lists\n",
    "New_List = List_A[0:4]\n",
    "print(New_List)\n",
    "\n",
    "print(\"-----------------------------\"); print()\n",
    "\n",
    "#Lists are mutable objects and the value of each entry can be changed\n",
    "#Replacing the 4th element of the list by the string \"five\"\n",
    "List_A[3] = 'five'\n",
    "print(List_A)"
   ]
  },
  {
   "cell_type": "markdown",
   "metadata": {},
   "source": [
    "Some other operations on lists are\n",
    "1. 'append' adds a single object at the end of the list.\n",
    "2. 'extend' adds a single or multiple objects to the end of the list.\n",
    "3. 'count' returns the number of times a specified object appears in the list.\n",
    "4. 'pop' removes the element of the list whose index is specified as the argument for the function.\n",
    "5. 'remove' removes the first occurence of the element of the list which matches the object passed as argument for the function.\n",
    "6. 'reverse' reverses a list.\n",
    "7. 'sort' arranges a list in ascending order.\n",
    "8. 'insert' takes two arguments. The first argument is the index where an object needs to be inserted and the second argument being the object itself.\n",
    "9. 'delete' is used to remove a subsequence of elements (start:end:increment).\n",
    "10. Lists can be concatenated, multiplied and copied.\n"
   ]
  },
  {
   "cell_type": "code",
   "execution_count": null,
   "metadata": {},
   "outputs": [],
   "source": [
    "#Working with Lists\n",
    "Var_1 = 345\n",
    "sl_1 = ['a','b','c']\n",
    "List_A = [1, sl_1, 'abcd', 2+3, Var_1, 3**5, [1,2,3], ['qwerty']]\n",
    "\n",
    "List_A.append('hello')\n",
    "print(List_A); print()\n",
    "\n",
    "List_A.extend(['hi',3])\n",
    "print(List_A); print()\n",
    "\n",
    "List_A.count('abcd'); print(List_A.count('abcd'))\n",
    "print()\n",
    "\n",
    "List_A.pop(2)\n",
    "print(List_A); print()\n",
    "\n",
    "List_A.remove('hello')\n",
    "print(List_A); print()\n",
    "\n",
    "List_A.reverse()\n",
    "print(List_A); print()\n",
    "\n",
    "List_A.insert(5,'in the middle')\n",
    "print(List_A); print()\n",
    "\n",
    "del List_A[2:8:2]\n",
    "print(List_A); print()\n",
    "\n"
   ]
  },
  {
   "cell_type": "code",
   "execution_count": null,
   "metadata": {},
   "outputs": [],
   "source": [
    "#Working with lists\n",
    "List_B = [1,2,3,4,'abcd']\n",
    "List_C = [6,7,8]\n",
    "print(List_B); print(List_C)\n",
    "print()\n",
    "\n",
    "#Concatenation\n",
    "addList = List_B + List_C\n",
    "print(addList)\n",
    "print()\n",
    "\n",
    "#copying lists\n",
    "NewList = List_C.copy()\n",
    "print(NewList)\n",
    "print()\n",
    "\n",
    "#Any changes to a copied list does not change the original list\n",
    "NewList_A = List_C\n",
    "NewList_B = List_C.copy()\n",
    "\n",
    "NewList_B.append('pi')\n",
    "\n",
    "print(\"The original list:\", NewList_A)\n",
    "print(\"The new list:\",NewList_B)\n",
    "\n",
    "\n"
   ]
  },
  {
   "cell_type": "markdown",
   "metadata": {},
   "source": [
    "Modules and Packages\n",
    "\n",
    "Modules: Modules in python are predefined libraries of functions and variables. Any function stored in a module can be used in a given python script by 'importing' it. If all the functions in a module are required, then all of them can be imported at once.\n",
    "\n",
    "Packages: Packages in python are a collection of modules.\n",
    "\n",
    "Some examples of python Packages:\n",
    "1. numPY \n",
    "2. sciPY\n",
    "3. symPY\n",
    "4. astroPY\n",
    "5. Beautiful Soup\n",
    "6. Visual Python\n",
    "7. Matplotlib\n",
    "\n",
    "\n"
   ]
  },
  {
   "cell_type": "markdown",
   "metadata": {},
   "source": [
    "The numPY package\n",
    "\n",
    "The numPY package is a python package used in scientific computing. At the core of numPY is the \"array\" datatype. numPY provides a collection of functions that act on this datatype.\n",
    "\n",
    "ndarray: numPY n-dimensional array\n",
    "ndarray or simply, array is a numPY datatype which is similar to a python list, but differs in the fact that the size of arrays is fixed initially and are required to have the same type of data stored inside them.\n",
    "\n",
    "\n",
    "Numpy also provides a host of mathematical functions. Some of them are listed below.\n",
    "\n",
    "1. Trignometric functions\n",
    "   sin(x)\n",
    "   cos(x)\n",
    "   tan(x)\n",
    "   sinh(x)\n",
    "   cosh(x)\n",
    "   tanh(x)\n",
    "   \n",
    "2. Logarithmic functions\n",
    "   log(x)\n",
    "   log10(x)\n",
    "   log2(x)\n",
    "   exp(x)\n",
    "   exp2(x)\n",
    "   \n",
    "3. Other functions\n",
    "   sqrt(x)\n",
    "   cbrt(x)\n",
    "   square(x)\n",
    "   sign(x)\n",
    "   \n",
    "A complete list can be found at: https://docs.scipy.org/doc/numpy-1.13.0/reference/routines.math.html"
   ]
  }
 ],
 "metadata": {
  "kernelspec": {
   "display_name": "Python 3",
   "language": "python",
   "name": "python3"
  },
  "language_info": {
   "codemirror_mode": {
    "name": "ipython",
    "version": 3
   },
   "file_extension": ".py",
   "mimetype": "text/x-python",
   "name": "python",
   "nbconvert_exporter": "python",
   "pygments_lexer": "ipython3",
   "version": "3.6.5"
  }
 },
 "nbformat": 4,
 "nbformat_minor": 2
}
